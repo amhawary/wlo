{
 "cells": [
  {
   "cell_type": "code",
   "execution_count": 1,
   "metadata": {},
   "outputs": [],
   "source": [
    "from models import Layout, Operation\n",
    "import optimiser"
   ]
  },
  {
   "cell_type": "code",
   "execution_count": 2,
   "metadata": {},
   "outputs": [
    {
     "name": "stdout",
     "output_type": "stream",
     "text": [
      "Generation 1 done.\n",
      "Generation 2 done.\n",
      "Generation 3 done.\n",
      "Generation 4 done.\n",
      "Generation 5 done.\n",
      "Generation 6 done.\n",
      "Generation 7 done.\n",
      "Generation 8 done.\n",
      "Generation 9 done.\n",
      "Generation 10 done.\n",
      "Generation 11 done.\n",
      "Generation 12 done.\n",
      "Generation 13 done.\n",
      "Generation 14 done.\n",
      "Generation 15 done.\n",
      "Generation 16 done.\n",
      "Generation 17 done.\n",
      "Generation 18 done.\n",
      "Generation 19 done.\n",
      "Generation 20 done.\n",
      "Generation 21 done.\n",
      "Generation 22 done.\n",
      "Generation 23 done.\n",
      "Generation 24 done.\n",
      "Generation 25 done.\n",
      "{'length': 10, 'width': 10, 'entities': [{'category': 'storage', 'type': 'shelf', 'placement': 'auto', 'quantity': 2, 'width': 1, 'length': 1, 'depends_on': 'none', 'within_zone': 'none', 'id': 0, 'positions': [[1, 10]]}, {'category': 'storage', 'type': 'shelf', 'placement': 'auto', 'quantity': 2, 'width': 1, 'length': 1, 'depends_on': 'none', 'within_zone': 'none', 'id': 1, 'positions': [[7, 3]]}, {'category': 'storage', 'type': 'big sku', 'placement': 'auto', 'quantity': 1, 'width': 3, 'length': 1, 'depends_on': 'none', 'within_zone': 'none', 'id': 2, 'positions': [[6, 3], [7, 3], [8, 3]]}, {'category': 'cooled storage', 'type': 'fridge', 'placement': 'auto', 'quantity': 1, 'width': 1, 'length': 2, 'depends_on': 'none', 'within_zone': 'none', 'id': 3, 'positions': [[9, 3], [9, 4]]}, {'category': 'machine', 'type': 'station', 'placement': 'auto', 'quantity': 1, 'width': 3, 'length': 3, 'depends_on': 'none', 'within_zone': 'none', 'id': 4, 'positions': [[10, 3], [10, 4], [10, 5], [11, 3], [11, 4], [11, 5], [12, 3], [12, 4], [12, 5]]}], 'structure': {'wall': [(0, 0), (0, 11), (1, 0), (1, 11), (2, 0), (2, 11), (3, 0), (3, 11), (4, 0), (4, 11), (5, 0), (5, 11), (6, 0), (6, 11), (7, 0), (7, 11), (8, 0), (8, 11), (9, 0), (9, 11), (10, 0), (10, 11), (11, 0), (11, 11), (0, 0), (11, 0), (0, 1), (11, 1), (0, 2), (11, 2), (0, 3), (11, 3), (0, 4), (11, 4), (0, 5), (11, 5), (0, 6), (11, 6), (0, 7), (11, 7), (0, 8), (11, 8), (0, 9), (11, 9), (0, 10), (11, 10)], 'loading': [], 'ex': [], 'ent': [], 'ex_ent': []}, 'zones': {'highTemp': [], 'lowTemp': [], 'highHumidity': [], 'lowHumidity': []}, 'utilities': {'gas': [], 'electric': [], 'water': [], 'air': [], 'earth': [], 'network': [], 'security': []}, 'operations': [{'type': 'pick', 'from_entity': {'id': 1, 'positions': [[7, 3]]}, 'to_entity': {'id': 4, 'positions': [[10, 3], [10, 4], [10, 5], [11, 3], [11, 4], [11, 5], [12, 3], [12, 4], [12, 5]]}, 'frequency': 1, 'id': 0}, {'type': 'pick', 'from_entity': {'id': 3, 'positions': [[9, 3], [9, 4]]}, 'to_entity': {'id': 2, 'positions': [[6, 3], [7, 3], [8, 3]]}, 'frequency': 1, 'id': 1}, {'type': 'pick', 'from_entity': {'id': 0, 'positions': [[1, 10]]}, 'to_entity': {'id': 2, 'positions': [[6, 3], [7, 3], [8, 3]]}, 'frequency': 1, 'id': 2}]}\n"
     ]
    },
    {
     "ename": "AttributeError",
     "evalue": "'dict' object has no attribute 'structure'",
     "output_type": "error",
     "traceback": [
      "\u001b[31m---------------------------------------------------------------------------\u001b[39m",
      "\u001b[31mAttributeError\u001b[39m                            Traceback (most recent call last)",
      "\u001b[36mCell\u001b[39m\u001b[36m \u001b[39m\u001b[32mIn[2]\u001b[39m\u001b[32m, line 98\u001b[39m\n\u001b[32m     96\u001b[39m ga.run_optimisation()\n\u001b[32m     97\u001b[39m \u001b[38;5;28mprint\u001b[39m(ga.layout1)\n\u001b[32m---> \u001b[39m\u001b[32m98\u001b[39m \u001b[43mprint_layout\u001b[49m\u001b[43m(\u001b[49m\u001b[43mga\u001b[49m\u001b[43m.\u001b[49m\u001b[43mlayout1\u001b[49m\u001b[43m)\u001b[49m\n",
      "\u001b[36mCell\u001b[39m\u001b[36m \u001b[39m\u001b[32mIn[2]\u001b[39m\u001b[32m, line 5\u001b[39m, in \u001b[36mprint_layout\u001b[39m\u001b[34m(layout)\u001b[39m\n\u001b[32m      2\u001b[39m grid = [[\u001b[33m'\u001b[39m\u001b[33m \u001b[39m\u001b[33m'\u001b[39m \u001b[38;5;28;01mfor\u001b[39;00m _ \u001b[38;5;129;01min\u001b[39;00m \u001b[38;5;28mrange\u001b[39m(layout[\u001b[33m'\u001b[39m\u001b[33mwidth\u001b[39m\u001b[33m'\u001b[39m] + \u001b[32m2\u001b[39m)] \u001b[38;5;28;01mfor\u001b[39;00m _ \u001b[38;5;129;01min\u001b[39;00m \u001b[38;5;28mrange\u001b[39m(layout[\u001b[33m'\u001b[39m\u001b[33mlength\u001b[39m\u001b[33m'\u001b[39m] + \u001b[32m2\u001b[39m)]\n\u001b[32m      4\u001b[39m \u001b[38;5;66;03m# Walls\u001b[39;00m\n\u001b[32m----> \u001b[39m\u001b[32m5\u001b[39m \u001b[38;5;28;01mfor\u001b[39;00m (x, y) \u001b[38;5;129;01min\u001b[39;00m \u001b[43mlayout\u001b[49m\u001b[43m.\u001b[49m\u001b[43mstructure\u001b[49m.get(\u001b[33m'\u001b[39m\u001b[33mwall\u001b[39m\u001b[33m'\u001b[39m, []):\n\u001b[32m      6\u001b[39m     \u001b[38;5;28;01mif\u001b[39;00m \u001b[32m0\u001b[39m <= y < \u001b[38;5;28mlen\u001b[39m(grid) \u001b[38;5;129;01mand\u001b[39;00m \u001b[32m0\u001b[39m <= x < \u001b[38;5;28mlen\u001b[39m(grid[\u001b[32m0\u001b[39m]):\n\u001b[32m      7\u001b[39m         grid[y][x] = \u001b[33m'\u001b[39m\u001b[33m#\u001b[39m\u001b[33m'\u001b[39m\n",
      "\u001b[31mAttributeError\u001b[39m: 'dict' object has no attribute 'structure'"
     ]
    }
   ],
   "source": [
    "def print_layout(layout):\n",
    "    grid = [[' ' for _ in range(layout['width'] + 2)] for _ in range(layout['length'] + 2)]\n",
    "\n",
    "    # Walls\n",
    "    for (x, y) in layout.structure.get('wall', []):\n",
    "        if 0 <= y < len(grid) and 0 <= x < len(grid[0]):\n",
    "            grid[y][x] = '#'\n",
    "\n",
    "    # Aisles\n",
    "    for (x, y) in layout.structure.get('aisle', []):\n",
    "        if 0 <= y < len(grid) and 0 <= x < len(grid[0]):\n",
    "            grid[y][x] = '.'\n",
    "\n",
    "    # Entities\n",
    "    for entity in layout.entities:\n",
    "        pos = entity.get('position')\n",
    "        if pos:\n",
    "            x, y = pos\n",
    "            if 0 <= y < len(grid) and 0 <= x < len(grid[0]):\n",
    "                # Use first letter of entity type\n",
    "                grid[y][x] = entity['type'][0].upper()\n",
    "\n",
    "    # Print the grid\n",
    "    for row in grid:\n",
    "        print(' '.join(row))\n",
    "\n",
    "# 1. Setup Layout\n",
    "layout = Layout(width=10, length=10)\n",
    "\n",
    "# Add some dummy entities\n",
    "layout.add_entities([\n",
    "{\n",
    "'category':'storage',\n",
    "'type':'shelf',\n",
    "'placement':'auto',\n",
    "'quantity':2,\n",
    "'width':1,\n",
    "'length':1,\n",
    "'depends_on':'none',\n",
    "'within_zone':'none'\n",
    "},\n",
    "{\n",
    "'category':'storage',\n",
    "'type':'big sku',\n",
    "'placement':'auto',\n",
    "'quantity':1,\n",
    "'width':3,\n",
    "'length':1,\n",
    "'depends_on':'none',\n",
    "'within_zone':'none'\n",
    "},\n",
    "\n",
    "    {\n",
    "'category':'cooled storage',\n",
    "'type':'fridge',\n",
    "'placement':'auto',\n",
    "'quantity':1,\n",
    "'width':1,\n",
    "'length':2,\n",
    "'depends_on':'none',\n",
    "'within_zone':'none'\n",
    "},\n",
    "    {\n",
    "'category':'machine',\n",
    "'type':'station',\n",
    "'placement':'auto',\n",
    "'quantity':1,\n",
    "'width':3,\n",
    "'length':3,\n",
    "'depends_on':'none',\n",
    "'within_zone':'none'\n",
    "},\n",
    "])\n",
    "\n",
    "layout.add_operations([{\n",
    "'type':'pick',\n",
    "'from_entity':1,\n",
    "'to_entity':4,\n",
    "'frequency':1,\n",
    "},\n",
    "{\n",
    "'type':'pick',\n",
    "'from_entity':3,\n",
    "'to_entity':2,\n",
    "'frequency':1,\n",
    "},\n",
    "{\n",
    "'type':'pick',\n",
    "'from_entity':0,\n",
    "'to_entity':2,\n",
    "'frequency':1,\n",
    "}]\n",
    ")\n",
    "\n",
    "ga = optimiser.Optimiser(layout, 'ga', 'standard_layout_fitness', 'mesa_warehouse_sim')\n",
    "ga.run_optimisation()\n",
    "print(ga.layout1)"
   ]
  },
  {
   "cell_type": "code",
   "execution_count": 3,
   "metadata": {},
   "outputs": [
    {
     "ename": "TypeError",
     "evalue": "WarehouseModel.__init__() missing 1 required positional argument: 'operations'",
     "output_type": "error",
     "traceback": [
      "\u001b[31m---------------------------------------------------------------------------\u001b[39m",
      "\u001b[31mTypeError\u001b[39m                                 Traceback (most recent call last)",
      "\u001b[36mCell\u001b[39m\u001b[36m \u001b[39m\u001b[32mIn[3]\u001b[39m\u001b[32m, line 1\u001b[39m\n\u001b[32m----> \u001b[39m\u001b[32m1\u001b[39m \u001b[43mga\u001b[49m\u001b[43m.\u001b[49m\u001b[43mrun_simulation\u001b[49m\u001b[43m(\u001b[49m\u001b[43m)\u001b[49m\n",
      "\u001b[36mFile \u001b[39m\u001b[32md:\\stuff\\uni bruv\\Year 3\\DSP\\wlo\\optimiser\\__init__.py:31\u001b[39m, in \u001b[36mOptimiser.run_simulation\u001b[39m\u001b[34m(self)\u001b[39m\n\u001b[32m     30\u001b[39m \u001b[38;5;28;01mdef\u001b[39;00m\u001b[38;5;250m \u001b[39m\u001b[34mrun_simulation\u001b[39m(\u001b[38;5;28mself\u001b[39m):\n\u001b[32m---> \u001b[39m\u001b[32m31\u001b[39m     a = \u001b[38;5;28;43mself\u001b[39;49m\u001b[43m.\u001b[49m\u001b[43msimulation\u001b[49m\u001b[43m(\u001b[49m\u001b[38;5;28;43mself\u001b[39;49m\u001b[43m.\u001b[49m\u001b[43mlayout1\u001b[49m\u001b[43m)\u001b[49m\n\u001b[32m     32\u001b[39m     a.run()\n\u001b[32m     34\u001b[39m     \u001b[38;5;28mself\u001b[39m.results1 = a.results\n",
      "\u001b[31mTypeError\u001b[39m: WarehouseModel.__init__() missing 1 required positional argument: 'operations'"
     ]
    }
   ],
   "source": [
    "ga.run_simulation()"
   ]
  },
  {
   "cell_type": "code",
   "execution_count": null,
   "metadata": {},
   "outputs": [],
   "source": [
    "gasim.initialize_population()\n",
    "\n",
    "for i in range(20):  # 20 generations\n",
    "    gasim.evolve()\n",
    "    print(f\"Generation {i+1} done.\")\n",
    "\n",
    "# 4. Get best layouts\n",
    "best_layouts = gasim.best_layouts()\n",
    "\n",
    "for b in best_layouts:\n",
    "\n",
    "    print_layout(b)\n",
    "\n",
    "print(\"Top Layouts Fitness:\")\n",
    "for i, l in enumerate(best_layouts):\n",
    "    fitness = l.get_fitness(simulation.operations)\n",
    "    print(f\"Layout {i+1}: Fitness = {fitness:.4f}\")"
   ]
  },
  {
   "cell_type": "code",
   "execution_count": 4,
   "metadata": {},
   "outputs": [],
   "source": [
    "\n",
    "def print_layout(layout):\n",
    "    \"\"\"Print a visual representation of the layout.\"\"\"\n",
    "    #print(\"Creating grid...\")  # Debug print\n",
    "    grid = [[' ' for _ in range(layout['width'] + 2)] for _ in range(layout['length'] + 2)]\n",
    "    \n",
    "    #print(\"Adding walls...\")  # Debug print\n",
    "    # Add walls\n",
    "    for (x, y) in layout['structure'].get('wall', []):\n",
    "        #print(f\"Wall at {x}, {y}\")  # Debug print\n",
    "        if 0 <= y < len(grid) and 0 <= x < len(grid[0]):\n",
    "            grid[y][x] = '#'\n",
    "    \n",
    "    #print(\"Adding entities...\")  # Debug print\n",
    "    # Add entities\n",
    "    for entity in layout['entities']:\n",
    "        pos = entity.get('position')\n",
    "        #print(f\"Entity {entity['type']} at {pos}\")  # Debug print\n",
    "        if pos:\n",
    "            x, y = pos\n",
    "            if 0 <= y < len(grid) and 0 <= x < len(grid[0]):\n",
    "                grid[y][x] = entity['type'][0].upper()\n",
    "    \n",
    "    # Print the grid\n",
    "    print(\"\\nLayout:\")\n",
    "    for row in grid:\n",
    "        print(' '.join(row))\n",
    "    print()"
   ]
  },
  {
   "cell_type": "code",
   "execution_count": 5,
   "metadata": {},
   "outputs": [
    {
     "name": "stdout",
     "output_type": "stream",
     "text": [
      "\n",
      "Layout:\n",
      "# # # # # # # # # # # #\n",
      "#                     #\n",
      "#                     #\n",
      "#                     #\n",
      "#                     #\n",
      "#                     #\n",
      "#                     #\n",
      "#                     #\n",
      "#                     #\n",
      "#                     #\n",
      "#                     #\n",
      "# # # # # # # # # # # #\n",
      "\n"
     ]
    }
   ],
   "source": [
    "print_layout(ga.layout1)"
   ]
  },
  {
   "attachments": {},
   "cell_type": "markdown",
   "metadata": {},
   "source": []
  }
 ],
 "metadata": {
  "kernelspec": {
   "display_name": "venv",
   "language": "python",
   "name": "python3"
  },
  "language_info": {
   "codemirror_mode": {
    "name": "ipython",
    "version": 3
   },
   "file_extension": ".py",
   "mimetype": "text/x-python",
   "name": "python",
   "nbconvert_exporter": "python",
   "pygments_lexer": "ipython3",
   "version": "3.12.9"
  },
  "orig_nbformat": 4
 },
 "nbformat": 4,
 "nbformat_minor": 2
}
